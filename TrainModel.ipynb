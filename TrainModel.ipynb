{
 "cells": [
  {
   "cell_type": "code",
   "execution_count": 1,
   "metadata": {},
   "outputs": [
    {
     "name": "stderr",
     "output_type": "stream",
     "text": [
      "music21: Certain music21 functions might need the optional package matplotlib;\n",
      "                  if you run into errors, install it by following the instructions at\n",
      "                  http://mit.edu/music21/doc/installing/installAdditional.html\n",
      "Using TensorFlow backend.\n"
     ]
    }
   ],
   "source": [
    "import glob\n",
    "import pickle\n",
    "import numpy\n",
    "from music21 import converter, instrument, note, chord\n",
    "from keras.models import Sequential\n",
    "from keras.layers import Dense\n",
    "from keras.layers import Dropout\n",
    "from keras.layers import LSTM\n",
    "from keras.layers import Activation\n",
    "from keras.layers import BatchNormalization as BatchNorm\n",
    "from keras.utils import np_utils\n",
    "from keras.callbacks import ModelCheckpoint"
   ]
  },
  {
   "cell_type": "code",
   "execution_count": 2,
   "metadata": {},
   "outputs": [],
   "source": [
    "def get_notes():\n",
    "    notes = []\n",
    "\n",
    "    for file in glob.glob(\"midi_songs/*.mid\"):\n",
    "        midi = converter.parse(file)\n",
    "\n",
    "        print(\"Parsing \",file)\n",
    "\n",
    "        notes_to_parse = None\n",
    "\n",
    "        try: \n",
    "            s2 = instrument.partitionByInstrument(midi)\n",
    "            notes_to_parse = s2.parts[0].recurse() \n",
    "        except: \n",
    "            notes_to_parse = midi.flat.notes\n",
    "\n",
    "        for element in notes_to_parse:\n",
    "            if isinstance(element, note.Note):\n",
    "                notes.append(str(element.pitch))\n",
    "            elif isinstance(element, chord.Chord):\n",
    "                notes.append('.'.join(str(n) for n in element.normalOrder))\n",
    "\n",
    "    with open('data/notes', 'wb') as filepath:\n",
    "        pickle.dump(notes, filepath)\n",
    "\n",
    "    return notes\n"
   ]
  },
  {
   "cell_type": "code",
   "execution_count": 3,
   "metadata": {},
   "outputs": [],
   "source": [
    "def prepare_sequences(notes, n_vocab):\n",
    "    \n",
    "    sequence_length = 100\n",
    "\n",
    "    pitchnames = sorted(set(item for item in notes))\n",
    "\n",
    "    note_to_int = dict((note, number) for number, note in enumerate(pitchnames))\n",
    "\n",
    "    network_input = []\n",
    "    network_output = []\n",
    "\n",
    "    for i in range(0, len(notes) - sequence_length, 1):\n",
    "        sequence_in = notes[i:i + sequence_length]\n",
    "        sequence_out = notes[i + sequence_length]\n",
    "        network_input.append([note_to_int[char] for char in sequence_in])\n",
    "        network_output.append(note_to_int[sequence_out])\n",
    "\n",
    "    n_patterns = len(network_input)\n",
    "\n",
    "    # Reshape\n",
    "    network_input = numpy.reshape(network_input, (n_patterns, sequence_length, 1))\n",
    "    # Normalization\n",
    "    network_input = network_input / float(n_vocab)\n",
    "    # One-hot encoding\n",
    "    network_output = np_utils.to_categorical(network_output)\n",
    "\n",
    "    return (network_input, network_output)"
   ]
  },
  {
   "cell_type": "code",
   "execution_count": 4,
   "metadata": {},
   "outputs": [],
   "source": [
    "def create_network(network_input, n_vocab):\n",
    "    model = Sequential()\n",
    "    model.add(LSTM(\n",
    "        512,\n",
    "        input_shape=(network_input.shape[1], network_input.shape[2]),\n",
    "        recurrent_dropout=0.3,\n",
    "        return_sequences=True\n",
    "    ))\n",
    "    model.add(LSTM(512, return_sequences=True, recurrent_dropout=0.3,))\n",
    "    model.add(LSTM(512))\n",
    "    model.add(BatchNorm())\n",
    "    model.add(Dropout(0.3))\n",
    "    model.add(Dense(256))\n",
    "    model.add(Activation('relu'))\n",
    "    model.add(BatchNorm())\n",
    "    model.add(Dropout(0.3))\n",
    "    model.add(Dense(n_vocab))\n",
    "    model.add(Activation('softmax'))\n",
    "    model.compile(loss='categorical_crossentropy', optimizer='rmsprop')\n",
    "\n",
    "    return model"
   ]
  },
  {
   "cell_type": "code",
   "execution_count": 6,
   "metadata": {},
   "outputs": [],
   "source": [
    "def train(model, network_input, network_output):\n",
    "    filepath = \"weights-improvement-{epoch:02d}-{loss:.4f}-bigger.hdf5\"\n",
    "    checkpoint = ModelCheckpoint(\n",
    "        filepath,\n",
    "        monitor='loss',\n",
    "        verbose=0,\n",
    "        save_best_only=True,\n",
    "        mode='min'\n",
    "    )\n",
    "    callbacks_list = [checkpoint]\n",
    "\n",
    "    model.fit(network_input, network_output, epochs=10, batch_size=16, callbacks=callbacks_list)"
   ]
  },
  {
   "cell_type": "code",
   "execution_count": 7,
   "metadata": {},
   "outputs": [],
   "source": [
    "def train_network():\n",
    "    notes = get_notes()\n",
    "\n",
    "    n_vocab = len(set(notes))\n",
    "\n",
    "    network_input, network_output = prepare_sequences(notes, n_vocab)\n",
    "\n",
    "    model = create_network(network_input, n_vocab)\n",
    "\n",
    "    train(model, network_input, network_output)"
   ]
  },
  {
   "cell_type": "code",
   "execution_count": 8,
   "metadata": {
    "scrolled": true
   },
   "outputs": [
    {
     "name": "stdout",
     "output_type": "stream",
     "text": [
      "Parsing midi_songs\\2ndMovementOfSinisterFootwear.mid\n",
      "Parsing midi_songs\\55Dive.mid\n",
      "Parsing midi_songs\\5To10.mid\n",
      "Parsing midi_songs\\634-5789.mid\n",
      "Parsing midi_songs\\914.mid\n",
      "Parsing midi_songs\\ABC.mid\n",
      "Parsing midi_songs\\ACertainSmile.mid\n",
      "Parsing midi_songs\\ACrush.mid\n",
      "Parsing midi_songs\\Adayinalifeofafool.mid\n",
      "Parsing midi_songs\\Adventage.mid\n",
      "Parsing midi_songs\\AffairInSanMiguel.mid\n",
      "Parsing midi_songs\\AFifthofBeethoven.mid\n",
      "Parsing midi_songs\\Afoggydayilondontown.mid\n",
      "Parsing midi_songs\\AfterTheLoveHasGone.mid\n",
      "Parsing midi_songs\\AfterTheRainHasFallen.mid\n",
      "Parsing midi_songs\\AgeOfAquarius.mid\n",
      "Parsing midi_songs\\Aintchagottired.mid\n",
      "Parsing midi_songs\\AintNothingLikeRealThingBaby.mid\n",
      "Parsing midi_songs\\AintNoWomanLikeTheOneIGot.mid\n",
      "Parsing midi_songs\\Aja.mid\n",
      "Epoch 1/10\n",
      "17511/17511 [==============================] - 923s 53ms/step - loss: 5.2420\n",
      "Epoch 2/10\n",
      "17511/17511 [==============================] - 896s 51ms/step - loss: 4.8452\n",
      "Epoch 3/10\n",
      "17511/17511 [==============================] - 895s 51ms/step - loss: 4.7440\n",
      "Epoch 4/10\n",
      "17511/17511 [==============================] - 878s 50ms/step - loss: 4.6994\n",
      "Epoch 5/10\n",
      "17511/17511 [==============================] - 834s 48ms/step - loss: 4.6804\n",
      "Epoch 6/10\n",
      "17511/17511 [==============================] - 813s 46ms/step - loss: 4.6649\n",
      "Epoch 7/10\n",
      "17511/17511 [==============================] - 809s 46ms/step - loss: 4.6534\n",
      "Epoch 8/10\n",
      "17511/17511 [==============================] - 804s 46ms/step - loss: 4.6457\n",
      "Epoch 9/10\n",
      "17511/17511 [==============================] - 818s 47ms/step - loss: 4.6277\n",
      "Epoch 10/10\n",
      "17511/17511 [==============================] - 847s 48ms/step - loss: 4.6555\n"
     ]
    }
   ],
   "source": [
    "train_network()"
   ]
  },
  {
   "cell_type": "code",
   "execution_count": null,
   "metadata": {},
   "outputs": [],
   "source": []
  }
 ],
 "metadata": {
  "kernelspec": {
   "display_name": "Python 3",
   "language": "python",
   "name": "python3"
  },
  "language_info": {
   "codemirror_mode": {
    "name": "ipython",
    "version": 3
   },
   "file_extension": ".py",
   "mimetype": "text/x-python",
   "name": "python",
   "nbconvert_exporter": "python",
   "pygments_lexer": "ipython3",
   "version": "3.6.10"
  }
 },
 "nbformat": 4,
 "nbformat_minor": 2
}
